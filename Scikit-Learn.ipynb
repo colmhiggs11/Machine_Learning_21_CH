{
 "cells": [
  {
   "cell_type": "markdown",
   "metadata": {},
   "source": [
    "# Machine Learning"
   ]
  },
  {
   "cell_type": "markdown",
   "metadata": {},
   "source": [
    "## What is Machine learning\n",
    "- How it works\n",
    "- What is it uses for / different areas and examples of uses\n",
    "* https://www.zdnet.com/article/what-is-machine-learning-everything-you-need-to-know/#:~:text=Machine%20learning%20is%20enabling%20computers,messy%20and%20unpredictable%20real%20world.\n",
    "* https://www.techrepublic.com/article/machine-learning-the-smart-persons-guide/\n",
    "* https://www.enginess.io/insights/machine-learning-everything-you-need-to-know\n",
    "## Supervised & Unsupervised Learning\n",
    "## Evalutation on Models\n",
    "https://www.kdnuggets.com/2018/05/general-approaches-machine-learning-process.html\n",
    "https://becominghuman.ai/a-simple-way-to-explain-how-machines-learn-7d9155ac8bed\n",
    "https://mitsloan.mit.edu/ideas-made-to-matter/machine-learning-explained\n",
    "https://machinelearningmastery.com/types-of-learning-in-machine-learning/\n",
    "https://towardsdatascience.com/do-you-know-how-to-choose-the-right-machine-learning-algorithm-among-7-different-types-295d0b0c7f60\n",
    "https://www.datasciencecentral.com/profiles/blogs/how-to-choose-a-machine-learning-model-some-guidelines\n",
    "A Gentle Introduction to Scikit-Learn: A Python Machine Learning Library\n",
    "https://machinelearningmastery.com/a-gentle-introduction-to-scikit-learn-a-python-machine-learning-library/\n",
    "\n",
    "Scikit Learn - Introduction\n",
    "https://www.tutorialspoint.com/scikit_learn/scikit_learn_introduction.htm\n",
    "\n",
    "How to Master Scikit-learn for Data Science\n",
    "https://towardsdatascience.com/how-to-master-scikit-learn-for-data-science-c29214ec25b0\n",
    "\n",
    "Make an animated GIF from a slide show\n",
    "- From the 7 steps to create a model.\n",
    "\n",
    "\n"
   ]
  },
  {
   "cell_type": "markdown",
   "metadata": {},
   "source": [
    "\n"
   ]
  },
  {
   "cell_type": "markdown",
   "metadata": {},
   "source": [
    "Example Videos:\n",
    "- https://www.youtube.com/watch?v=pqNCD_5r0IU\n",
    "- https://www.youtube.com/watch?v=0Lt9w-BxKFQ\n",
    "- https://www.youtube.com/watch?v=0B5eIE_1vpU\n"
   ]
  },
  {
   "cell_type": "markdown",
   "metadata": {},
   "source": [
    "References: \n",
    "* file:///C:/Users/CMHig/Downloads/Machine%20Learning%20research/Introduction%20to%20Machine%20Learning%20with%20Python%20A%20Guide%20for%20Data%20Scientists%20by%20Andreas%20C.%20M%C3%BCller,%20Sarah%20Guido%20(z-lib.org).pdf\n",
    "* file:///C:/Users/CMHig/Downloads/Machine%20Learning%20research/978-1-4842-5373-1.pdf\n",
    "* file:///C:/Users/CMHig/Downloads/Machine%20Learning%20research/Machine%20Learning%20Applications%20Using%20Python%20-%20Cases%20Studies%20from%20Healthcare,%20Retail,%20and%20Finance%20by%20Puneet%20Mathur%20(z-lib.org).pdf\n",
    "* file:///C:/Users/CMHig/Downloads/Machine%20Learning%20research/978-1-4842-3207-1_1.pdf\n",
    "* file:///C:/Users/CMHig/Downloads/Machine%20Learning%20research/Machine%20Learning%20Step-by-Step%20Guide%20To%20Implement%20Machine%20Learning%20Algorithms%20with%20Python%20by%20Rudolph%20Russell%20(z-lib.org).pdf\n"
   ]
  },
  {
   "cell_type": "code",
   "execution_count": null,
   "metadata": {},
   "outputs": [],
   "source": []
  },
  {
   "cell_type": "code",
   "execution_count": null,
   "metadata": {},
   "outputs": [],
   "source": []
  },
  {
   "cell_type": "code",
   "execution_count": null,
   "metadata": {},
   "outputs": [],
   "source": []
  },
  {
   "cell_type": "code",
   "execution_count": null,
   "metadata": {},
   "outputs": [],
   "source": []
  },
  {
   "cell_type": "code",
   "execution_count": null,
   "metadata": {},
   "outputs": [],
   "source": []
  },
  {
   "cell_type": "code",
   "execution_count": null,
   "metadata": {},
   "outputs": [],
   "source": []
  },
  {
   "cell_type": "markdown",
   "metadata": {},
   "source": [
    "# Scikit-Learn"
   ]
  },
  {
   "cell_type": "code",
   "execution_count": null,
   "metadata": {},
   "outputs": [],
   "source": []
  },
  {
   "cell_type": "code",
   "execution_count": null,
   "metadata": {},
   "outputs": [],
   "source": []
  },
  {
   "cell_type": "code",
   "execution_count": null,
   "metadata": {},
   "outputs": [],
   "source": []
  },
  {
   "cell_type": "code",
   "execution_count": null,
   "metadata": {},
   "outputs": [],
   "source": []
  },
  {
   "cell_type": "markdown",
   "metadata": {},
   "source": [
    "---"
   ]
  },
  {
   "cell_type": "markdown",
   "metadata": {},
   "source": [
    "## Packages"
   ]
  },
  {
   "cell_type": "code",
   "execution_count": null,
   "metadata": {},
   "outputs": [],
   "source": []
  },
  {
   "cell_type": "code",
   "execution_count": null,
   "metadata": {},
   "outputs": [],
   "source": []
  },
  {
   "cell_type": "markdown",
   "metadata": {},
   "source": [
    "---"
   ]
  },
  {
   "cell_type": "code",
   "execution_count": 4,
   "metadata": {},
   "outputs": [],
   "source": [
    "import sklearn\n"
   ]
  },
  {
   "cell_type": "markdown",
   "metadata": {},
   "source": [
    "## What is SciKit Learn"
   ]
  },
  {
   "cell_type": "markdown",
   "metadata": {},
   "source": [
    "---"
   ]
  },
  {
   "cell_type": "code",
   "execution_count": null,
   "metadata": {},
   "outputs": [],
   "source": []
  },
  {
   "cell_type": "markdown",
   "metadata": {},
   "source": [
    "### Algorithms that will be analysed in this Notebook"
   ]
  },
  {
   "cell_type": "markdown",
   "metadata": {},
   "source": [
    "---"
   ]
  },
  {
   "cell_type": "code",
   "execution_count": null,
   "metadata": {},
   "outputs": [],
   "source": []
  },
  {
   "cell_type": "code",
   "execution_count": null,
   "metadata": {},
   "outputs": [],
   "source": []
  },
  {
   "cell_type": "markdown",
   "metadata": {},
   "source": [
    "---\n",
    "# End"
   ]
  }
 ],
 "metadata": {
  "kernelspec": {
   "display_name": "Python 3",
   "language": "python",
   "name": "python3"
  },
  "language_info": {
   "codemirror_mode": {
    "name": "ipython",
    "version": 3
   },
   "file_extension": ".py",
   "mimetype": "text/x-python",
   "name": "python",
   "nbconvert_exporter": "python",
   "pygments_lexer": "ipython3",
   "version": "3.7.4"
  }
 },
 "nbformat": 4,
 "nbformat_minor": 4
}
