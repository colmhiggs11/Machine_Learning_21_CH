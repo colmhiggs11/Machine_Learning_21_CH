{
 "cells": [
  {
   "cell_type": "markdown",
   "metadata": {},
   "source": [
    "<img src=\"https://github.com/colmhiggs11/Machine_Learning_21_CH/blob/main/Images/scipylogo.png?raw=true\" style = \"height:125px;width:300px;\" Title= \"SciPy Sub Packages\"/>\n"
   ]
  },
  {
   "cell_type": "markdown",
   "metadata": {},
   "source": [
    "---"
   ]
  },
  {
   "cell_type": "markdown",
   "metadata": {},
   "source": [
    "# SciPy\n",
    "---"
   ]
  },
  {
   "cell_type": "markdown",
   "metadata": {},
   "source": [
    "Scipy is a Python library used to solve mathematical and scientific problems. It is built on Numpy. Numpy uses array data and has basic operation like sorting and indexing. SciPy contains numerical code. It is a library containing full versions of mathematical and scientific functions. The sub packages contained in SciPy are shown in the image below. In this notebook we will be looking at SciPy Stats.\n",
    "\n",
    "<img src=\"https://github.com/colmhiggs11/Machine_Learning_21_CH/blob/main/Images/Scipy.png?raw=true\" style = \"height:400px;width:550px;\" Title= \"SciPy Sub Packages\"/>\n"
   ]
  },
  {
   "cell_type": "code",
   "execution_count": 1,
   "metadata": {},
   "outputs": [],
   "source": [
    "## Importing Libraries\n",
    "import scipy\n",
    "from scipy import stats\n",
    "import numpy as np \n",
    "import pandas as pd \n",
    "import seaborn as sns  \n",
    "import matplotlib.pyplot as plt\n",
    "import pingouin as pg\n",
    "%matplotlib inline\n"
   ]
  },
  {
   "cell_type": "markdown",
   "metadata": {},
   "source": [
    "# SciPy Stats\n",
    "---"
   ]
  },
  {
   "cell_type": "markdown",
   "metadata": {},
   "source": [
    "The SciPy Stats module is one of the many sub packages of the SciPy library. It is made up of probability distributions (both continuous and discrete), summary and frequency statistics, correlation functions and statistical tests,kernel density estimation and a lot more. It's content is constantly being updated due to the open source nature of SciPy. SciPy has many contributors and is located on Github. [[1]](#1) \n",
    "\n",
    "The two distribution classes rv_continuous and rv_discrete are made for subclassing. They are normally used if you need a distribution which is not already defined in scipy.stats There are more than 80 continuous random variables and over 10 discrete random variables implemented into these classes.\tTo get a full list of the statistic functions in scipy.stats you can use the following code: `info(stats) `\n",
    "\n",
    "Probability distributions show us the Likelihood of a particular outcome. \n",
    "The are underneath the curve must add up to 1 as shown below. [[2]](#2) \n",
    "\n",
    "\n",
    "<img src=\"https://github.com/colmhiggs11/Machine_Learning_21_CH/blob/main/Images/PDF.PNG?raw=true\" style = \"height:300px;width:500px;\" Title= \"Normality\"/>\n",
    "\n",
    "\n",
    "__Continuous distributions__\n",
    "Typically use continuous random variables such as measurements. Examples include height, the time required to complete a task etc.\n",
    "This is represented by the area under a curve or the integral. \n",
    "\n",
    "__Discrete distributions__\n",
    "Typically use discrete random variables such as count values . Examples of discrete random variables include the number of pets you own, attendance at a school, the number of patients in a hospital.\n",
    "The probability distribution is a list of probabilities associated with each of its possible values. It is called probability mass function.\n",
    "\n",
    "There are a number of other functions within scipy.stats that are very useful.\n",
    "\n",
    "|Name| Description|\n",
    "|:-------------|:-------------|\n",
    "|Summary statistics |Used to return descriptive statistics. For decoding values in the output. Minimum, Maximum, Count, Mean etc.|\n",
    "|Frequency statistics   |Typically used to return scores and frequency histograms|\n",
    "|Correlation functions - f_oneway(args[, axis]) Perform one-way ANOVA. |Used to analyse correlation between variables or features in datasets. For quantifying the strength of the relationship |\n",
    "|Statistical tests |Used in hypothesis testing to determine whether input variables have significant relationship with the target variables. Estimation of difference between two or more groups.| \n",
    "\n",
    "In Statistical tests there is an assumption made and the testing is based onhow likely the assumption will prove to be false. Initially a null hypothesis is assumed which means there is no difference or relationship between variables. The p-probability value deternines whether there is a significant relationship between the input and target variables. If the p-value is below th threshold typically 0.05. Then there is said to be a relationship between the variables. For the purpose of this notebook we will be focussing on the ANOVA statistical test."
   ]
  },
  {
   "cell_type": "markdown",
   "metadata": {},
   "source": [
    "# ANOVA (ANalysis Of VAriance)\n",
    "----\n",
    "\n"
   ]
  },
  {
   "cell_type": "markdown",
   "metadata": {},
   "source": [
    "ANOVA is a statistical test as mentioned above. It is typically used when a t-test that would deal with two samples is not able to be used because there are more than two samples to be tested.\n",
    "Anova uses the F-Test to check whether the group means are equal and also looks for the variation within the samples. There is only one dependent variable in the model. The formula for completing a one-way ANOVA test is as follows:  https://www.ics.uci.edu/~jutts/8/Lecture28Compact.pdf\n",
    "\n",
    "___\n",
    "$$\n",
    "F = \\frac{Explained \\; Variance}{Unexplained\\; Variance} or\\frac{ Variance\\; between \\;Groups}{ Variance \\;within \\;Groups} = \\frac{Sum \\;of \\;Squares\\; between\\; groups}{Sum \\;of \\;Squares\\; for \\;error} = \\frac{MST}{MSE} = \\frac{Mean \\;Squared \\;Error \\;Treatments}{Mean \\;Squared \\;Error } = \\frac{\\frac{SS_B}{DfT}}{\\frac{SS_W}{DfE}} = \\frac{\\frac{SS_B}{k-1}}{\\frac{SS_W}{N-k}}\n",
    "$$\n",
    "\n",
    "\n",
    "---\n",
    "\n",
    "$$ Where,$$\n",
    "\n",
    "\n",
    "$$SS_b = \\sum_{i}^{} n_i{(y_i-y)^2}$$\n",
    "\n",
    "$$SS_bW = \\sum_{ij}^{} {(y_{ij}-y_i)^2}$$\n",
    "\n",
    "$$ Where,$$\n",
    "\n",
    "\n",
    "$$y_i = Sample \\;mean \\;in \\;the\\; i^{th} \\;group$$\n",
    "\n",
    "$$n_i = number \\;of \\;observation \\;in\\; the \\;i^{th}\\; group$$\n",
    "\n",
    "$$y_i = total\\; mean \\;of \\;the \\;data$$\n",
    "\n",
    "$$k = total \\;number \\;of \\;groups$$\n",
    "\n",
    "$$y_{ij} = j^{th} \\;observation\\; out \\;of \\;k \\;group$$\n",
    "\n",
    "$$N = Overall\\; sample\\; size$$\n",
    "\n",
    "\n",
    "### Initially we look at the ANOVA hypotheses:\n",
    "\n",
    "\n",
    "|Name| formula |Description|\n",
    "|:-------------|:-------------|:-------------|\n",
    "|Null hypothesis |$$H_0:  = \\mu_1 = \\mu_2...=\\mu_p$$|This is where there is no variation between the mean values in the groups|\n",
    "|Alternative hypothesis   |$$H_0:  All \\; \\mu \\;are  \\;not  \\;equal$$ |This is where at least one of the groups mean value differs from the other groups|\n",
    "\n",
    "\n",
    "### Next we look at the ANOVA assumptions: \n",
    "\n",
    "|Title| Description |\n",
    "|:-------------|:-------------|\n",
    "|1. The dependent variable must be continuous  |Has to be a measured value. Eg(Test scores(0-100%), Weight(kg), Height(m) etc.|\n",
    "|2. The independent variables must consist of 2/3 categorical independent groups  |One-way ANOVA is used normally when there are more than two categorical,independent groups Eg(salary range(Low,Medium,High), ethnicity(Caucasian, Hispanic, African, African-American) etc.|\n",
    "|3. Must be no relationship between observations  |To use the One-wa Anova test no single observation in a group can be part of another group. |\n",
    "|4. There should be no significant outliers  |Outliers that don't follow the typical pattern within the data and have values that largely differ from the mean reduce the validity and accuracy of the Anova one-way test.|\n",
    "|5. Dependent variable should be normally distributed for each category  |Shapiro-Wilk test is used here to test for normality.|\n",
    "|6. There needs to be homogeneity of variances |Levene's test for homogeneity of variances is used here. If this test fails (p-value of lower than 0.05) then a Welch Anova test is required instead of a one-way Anova|\n",
    "[[3]](#3)"
   ]
  },
  {
   "cell_type": "markdown",
   "metadata": {},
   "source": [
    "## Dataset \n",
    "The dataset that will be used in this ANOVA testing is the Student Performance dataset that looks into the highest level of education received by the parents and what effect is has on the childs Math, Reading and Writing score. The dataset also looks at ethnicity, the types of lunch received and gender. The dataset used can be found at the following location - https://www.kaggle.com/barkhaverma/student-performance-analysis. There are 1000 observations in the dataset, the first thing to do is to check that no data is missing. As seen below there is no missing data. We are going to be looking at the effect that the parents eduction has on the child's mathematical ability so we need to see how many categories we have in this group. "
   ]
  },
  {
   "cell_type": "code",
   "execution_count": 2,
   "metadata": {},
   "outputs": [
    {
     "data": {
      "text/html": [
       "<div>\n",
       "<style scoped>\n",
       "    .dataframe tbody tr th:only-of-type {\n",
       "        vertical-align: middle;\n",
       "    }\n",
       "\n",
       "    .dataframe tbody tr th {\n",
       "        vertical-align: top;\n",
       "    }\n",
       "\n",
       "    .dataframe thead th {\n",
       "        text-align: right;\n",
       "    }\n",
       "</style>\n",
       "<table border=\"1\" class=\"dataframe\">\n",
       "  <thead>\n",
       "    <tr style=\"text-align: right;\">\n",
       "      <th></th>\n",
       "      <th>gender</th>\n",
       "      <th>race/ethnicity</th>\n",
       "      <th>parental level of education</th>\n",
       "      <th>lunch</th>\n",
       "      <th>test preparation course</th>\n",
       "      <th>math score</th>\n",
       "      <th>reading score</th>\n",
       "      <th>writing score</th>\n",
       "    </tr>\n",
       "  </thead>\n",
       "  <tbody>\n",
       "    <tr>\n",
       "      <th>0</th>\n",
       "      <td>female</td>\n",
       "      <td>group B</td>\n",
       "      <td>bachelor's degree</td>\n",
       "      <td>standard</td>\n",
       "      <td>none</td>\n",
       "      <td>72</td>\n",
       "      <td>72</td>\n",
       "      <td>74</td>\n",
       "    </tr>\n",
       "    <tr>\n",
       "      <th>1</th>\n",
       "      <td>female</td>\n",
       "      <td>group C</td>\n",
       "      <td>some college</td>\n",
       "      <td>standard</td>\n",
       "      <td>completed</td>\n",
       "      <td>69</td>\n",
       "      <td>90</td>\n",
       "      <td>88</td>\n",
       "    </tr>\n",
       "    <tr>\n",
       "      <th>2</th>\n",
       "      <td>female</td>\n",
       "      <td>group B</td>\n",
       "      <td>master's degree</td>\n",
       "      <td>standard</td>\n",
       "      <td>none</td>\n",
       "      <td>90</td>\n",
       "      <td>95</td>\n",
       "      <td>93</td>\n",
       "    </tr>\n",
       "    <tr>\n",
       "      <th>3</th>\n",
       "      <td>male</td>\n",
       "      <td>group A</td>\n",
       "      <td>associate's degree</td>\n",
       "      <td>free/reduced</td>\n",
       "      <td>none</td>\n",
       "      <td>47</td>\n",
       "      <td>57</td>\n",
       "      <td>44</td>\n",
       "    </tr>\n",
       "    <tr>\n",
       "      <th>4</th>\n",
       "      <td>male</td>\n",
       "      <td>group C</td>\n",
       "      <td>some college</td>\n",
       "      <td>standard</td>\n",
       "      <td>none</td>\n",
       "      <td>76</td>\n",
       "      <td>78</td>\n",
       "      <td>75</td>\n",
       "    </tr>\n",
       "  </tbody>\n",
       "</table>\n",
       "</div>"
      ],
      "text/plain": [
       "   gender race/ethnicity parental level of education         lunch  \\\n",
       "0  female        group B           bachelor's degree      standard   \n",
       "1  female        group C                some college      standard   \n",
       "2  female        group B             master's degree      standard   \n",
       "3    male        group A          associate's degree  free/reduced   \n",
       "4    male        group C                some college      standard   \n",
       "\n",
       "  test preparation course  math score  reading score  writing score  \n",
       "0                    none          72             72             74  \n",
       "1               completed          69             90             88  \n",
       "2                    none          90             95             93  \n",
       "3                    none          47             57             44  \n",
       "4                    none          76             78             75  "
      ]
     },
     "execution_count": 2,
     "metadata": {},
     "output_type": "execute_result"
    }
   ],
   "source": [
    "## Creating Dataframe from CSV\n",
    "df = pd.read_csv(\"Data/StudentPerformance.csv\")\n",
    "df.head()"
   ]
  },
  {
   "cell_type": "code",
   "execution_count": 3,
   "metadata": {},
   "outputs": [
    {
     "data": {
      "text/plain": [
       "gender                         0\n",
       "race/ethnicity                 0\n",
       "parental level of education    0\n",
       "lunch                          0\n",
       "test preparation course        0\n",
       "math score                     0\n",
       "reading score                  0\n",
       "writing score                  0\n",
       "dtype: int64"
      ]
     },
     "execution_count": 3,
     "metadata": {},
     "output_type": "execute_result"
    }
   ],
   "source": [
    "# Checking if there are any null values\n",
    "df.isnull().sum()"
   ]
  },
  {
   "cell_type": "markdown",
   "metadata": {},
   "source": [
    "---\n",
    "## Assumption 1 The dependent variable must be continuous\n",
    "---\n",
    "\n",
    "The dependent variable in this case will be the math score. Math scores in America were below average according to the PISA results [[4]](#4)so this is the score that we will be focusing on. As the is a score from 0-100, this is seen as a continuous variable and passes assumption 1. "
   ]
  },
  {
   "cell_type": "code",
   "execution_count": 4,
   "metadata": {},
   "outputs": [
    {
     "data": {
      "text/plain": [
       "count    1000.00000\n",
       "mean       66.08900\n",
       "std        15.16308\n",
       "min         0.00000\n",
       "25%        57.00000\n",
       "50%        66.00000\n",
       "75%        77.00000\n",
       "max       100.00000\n",
       "Name: math score, dtype: float64"
      ]
     },
     "execution_count": 4,
     "metadata": {},
     "output_type": "execute_result"
    }
   ],
   "source": [
    "df['math score'].describe()"
   ]
  },
  {
   "cell_type": "markdown",
   "metadata": {},
   "source": [
    "---\n",
    "## Assumption 2 The independent variables must consist of 2/3 categorical independent groups\n",
    "---\n",
    "\n",
    "To check this we check the number of unique values in the Parent_Eduction column. (Name changed for ease of use). As we can see below there are 6 unique values.\n",
    "The values in this dataset look to have some crossover. There are two sets of columns that have similar identifiable names. For the purpose of this analysis both \"some college\" and \"some high school\" will be remove as they are covered in the various degree's and high school categories."
   ]
  },
  {
   "cell_type": "code",
   "execution_count": 5,
   "metadata": {},
   "outputs": [
    {
     "name": "stdout",
     "output_type": "stream",
     "text": [
      "There are 6 categorical groups in this variable\n",
      "These are:\n",
      "some college          226\n",
      "associate's degree    222\n",
      "high school           196\n",
      "some high school      179\n",
      "bachelor's degree     118\n",
      "master's degree        59\n",
      "Name: Parent_Education, dtype: int64 categorical groups in this variable\n"
     ]
    }
   ],
   "source": [
    "## Changing name of columns\n",
    "New_DF_Math = df.rename({'parental level of education': 'Parent_Education'}, axis=1)  # new method\n",
    "\n",
    "# Finding number of unique values\n",
    "Num_unique = New_DF_Math.Parent_Education.nunique()\n",
    "\n",
    "print(f'There are {Num_unique} categorical groups in this variable')\n",
    "print(f'These are:\\n{New_DF_Math.Parent_Education.value_counts()} categorical groups in this variable')"
   ]
  },
  {
   "cell_type": "code",
   "execution_count": 6,
   "metadata": {},
   "outputs": [
    {
     "data": {
      "text/html": [
       "<div>\n",
       "<style scoped>\n",
       "    .dataframe tbody tr th:only-of-type {\n",
       "        vertical-align: middle;\n",
       "    }\n",
       "\n",
       "    .dataframe tbody tr th {\n",
       "        vertical-align: top;\n",
       "    }\n",
       "\n",
       "    .dataframe thead th {\n",
       "        text-align: right;\n",
       "    }\n",
       "</style>\n",
       "<table border=\"1\" class=\"dataframe\">\n",
       "  <thead>\n",
       "    <tr style=\"text-align: right;\">\n",
       "      <th></th>\n",
       "      <th>Parent_Education</th>\n",
       "      <th>math score</th>\n",
       "    </tr>\n",
       "  </thead>\n",
       "  <tbody>\n",
       "    <tr>\n",
       "      <th>0</th>\n",
       "      <td>bachelor's degree</td>\n",
       "      <td>72</td>\n",
       "    </tr>\n",
       "    <tr>\n",
       "      <th>1</th>\n",
       "      <td>some college</td>\n",
       "      <td>69</td>\n",
       "    </tr>\n",
       "    <tr>\n",
       "      <th>2</th>\n",
       "      <td>master's degree</td>\n",
       "      <td>90</td>\n",
       "    </tr>\n",
       "    <tr>\n",
       "      <th>3</th>\n",
       "      <td>associate's degree</td>\n",
       "      <td>47</td>\n",
       "    </tr>\n",
       "    <tr>\n",
       "      <th>4</th>\n",
       "      <td>some college</td>\n",
       "      <td>76</td>\n",
       "    </tr>\n",
       "  </tbody>\n",
       "</table>\n",
       "</div>"
      ],
      "text/plain": [
       "     Parent_Education  math score\n",
       "0   bachelor's degree          72\n",
       "1        some college          69\n",
       "2     master's degree          90\n",
       "3  associate's degree          47\n",
       "4        some college          76"
      ]
     },
     "execution_count": 6,
     "metadata": {},
     "output_type": "execute_result"
    }
   ],
   "source": [
    "# Drop unused columns\n",
    "drop_cols = ['gender', 'race/ethnicity', 'lunch', 'test preparation course', 'reading score',\n",
    "       'writing score']\n",
    "\n",
    "Anova_DF = New_DF_Math.drop(drop_cols, axis = 1)\n",
    "Anova_DF.head()"
   ]
  },
  {
   "cell_type": "code",
   "execution_count": 7,
   "metadata": {},
   "outputs": [
    {
     "name": "stdout",
     "output_type": "stream",
     "text": [
      "            count       mean        std  min    25%   50%   75%   max\n",
      "math score  196.0  62.137755  14.539651  8.0  53.75  63.0  72.0  99.0\n",
      "             count       mean        std  min   25%   50%   75%   max\n",
      "math score  179.0  63.497207  15.927989  0.0  53.0  65.0  74.0  97.0\n"
     ]
    }
   ],
   "source": [
    "df_HS = Anova_DF[Anova_DF['Parent_Education'] == \"high school\"]\n",
    "df1 = Anova_DF[Anova_DF['Parent_Education'] == \"some high school\"]\n",
    "\n",
    "a = df_HS.describe().T\n",
    "b = df1.describe().T\n",
    "print(f'{a}\\n {b}')"
   ]
  },
  {
   "cell_type": "code",
   "execution_count": 8,
   "metadata": {},
   "outputs": [
    {
     "name": "stdout",
     "output_type": "stream",
     "text": [
      "There are now 4 categorical groups in this variable\n",
      "---------------------------\n",
      "associate's degree    222\n",
      "high school           196\n",
      "bachelor's degree     118\n",
      "master's degree        59\n",
      "Name: Parent_Education, dtype: int64\n",
      "---------------------------\n"
     ]
    }
   ],
   "source": [
    "## Reomving more columns\n",
    "Anova_df1 = Anova_DF[~Anova_DF['Parent_Education'].isin(['some high school','some college'])]\n",
    "Anova_df1.Parent_Education.value_counts()\n",
    "print(f'There are now {Anova_df1.Parent_Education.nunique()} categorical groups in this variable')\n",
    "print(f'---------------------------')\n",
    "print(Anova_df1.Parent_Education.value_counts())\n",
    "print(f'---------------------------')"
   ]
  },
  {
   "cell_type": "markdown",
   "metadata": {},
   "source": [
    "---\n",
    "## Assumption 3 Must be no relationship between observations\n",
    "---\n",
    "\n",
    "The third assumption requires us to separate each of the categorical values into their own dataframe to ensure no one group is part of another group."
   ]
  },
  {
   "cell_type": "code",
   "execution_count": 9,
   "metadata": {},
   "outputs": [],
   "source": [
    "## Creating DF's for each category\n",
    "df_HS = Anova_DF[Anova_DF['Parent_Education'] == \"high school\"]\n",
    "df_AD = Anova_DF[Anova_DF['Parent_Education'] == \"associate's degree\"]\n",
    "df_BD = Anova_DF[Anova_DF['Parent_Education'] == \"bachelor's degree\"]\n",
    "df_MD = Anova_DF[Anova_DF['Parent_Education'] == \"master's degree\"]"
   ]
  },
  {
   "cell_type": "markdown",
   "metadata": {},
   "source": [
    "---\n",
    "## Assumption 4 There should be no significant outliers\n",
    "---\n",
    "\n",
    "Firstly we plot the groups on histograms to see if there are any glaringly obvious outliers. From the histogram it looks like there may be one in the High School group. The boxplots below show us that there is an outlier in this data.[[5]](#5) "
   ]
  },
  {
   "cell_type": "code",
   "execution_count": 10,
   "metadata": {},
   "outputs": [
    {
     "data": {
      "image/png": "[encoded data removed]",
      "text/plain": [
       "<Figure size 720x504 with 4 Axes>"
      ]
     },
     "metadata": {
      "needs_background": "light"
     },
     "output_type": "display_data"
    }
   ],
   "source": [
    "## Distribution plot for visualisation\n",
    "\n",
    "fig, ax = plt.subplots(2, 2, figsize=(10, 7))\n",
    "\n",
    "sns.distplot(df_HS[\"math score\"], kde=True, rug=False, ax=ax[0, 0], color=\"b\")\n",
    "sns.distplot(df_AD[\"math score\"], kde=True, rug=False, ax=ax[0, 1], color=\"r\")\n",
    "sns.distplot(df_BD[\"math score\"], kde=True, rug=False, ax=ax[1, 0], color=\"g\")\n",
    "sns.distplot(df_MD[\"math score\"], kde=True, rug=False, ax=ax[1, 1], color=\"orange\")\n",
    "\n",
    "fig.legend(labels=['High School','Associate\\'s Degree','Bachelor\\'s Degree','Master\\'s Degree'])\n",
    "plt.tight_layout()"
   ]
  },
  {
   "cell_type": "code",
   "execution_count": 11,
   "metadata": {},
   "outputs": [
    {
     "data": {
      "image/png": "[encoded data removed]",
      "text/plain": [
       "<Figure size 900x540 with 4 Axes>"
      ]
     },
     "metadata": {
      "needs_background": "light"
     },
     "output_type": "display_data"
    }
   ],
   "source": [
    "fig, ax = plt.subplots(2, 2, figsize=(12.5, 7.5))\n",
    "       \n",
    "ax1 =sns.boxplot(df_HS[\"math score\"],ax=ax[0, 0],color=\"b\")\n",
    "ax2 =sns.boxplot(df_AD[\"math score\"],ax=ax[0, 1],color=\"r\")\n",
    "ax3 = sns.boxplot(df_BD[\"math score\"],ax=ax[1, 0],color=\"g\")\n",
    "ax4 = sns.boxplot(df_MD[\"math score\"],ax=ax[1, 1],color=\"orange\")\n",
    "\n",
    "# https://stackoverflow.com/questions/25239933/how-to-add-title-to-subplots-in-matplotlib\n",
    "ax1.title.set_text('High School')\n",
    "ax2.title.set_text('Associate\\'s Degree')\n",
    "ax3.title.set_text('Bachelor\\'s Degree')\n",
    "ax4.title.set_text('Master\\'s Degree')\n",
    "plt.tight_layout()\n",
    "\n",
    "df_list = [df_HS, df_AD, df_BD, df_MD]"
   ]
  },
  {
   "cell_type": "code",
   "execution_count": 12,
   "metadata": {},
   "outputs": [
    {
     "name": "stdout",
     "output_type": "stream",
     "text": [
      "Less than -3 std: (array([], dtype=int64),)  | Greater than 3 std:(array([190], dtype=int64),)\n",
      "Less than -3 std: (array([], dtype=int64),)  | Greater than 3 std:(array([], dtype=int64),)\n",
      "Less than -3 std: (array([], dtype=int64),)  | Greater than 3 std:(array([], dtype=int64),)\n",
      "Less than -3 std: (array([], dtype=int64),)  | Greater than 3 std:(array([], dtype=int64),)\n",
      "\n",
      "The value that is identified as an outlier is:\n",
      "--------------------------------\n",
      "Parent_Education    high school\n",
      "math score                    8\n",
      "Name: 980, dtype: object\n",
      "--------------------------------\n"
     ]
    }
   ],
   "source": [
    "# https://towardsdatascience.com/ways-to-detect-and-remove-the-outliers-404d16608dba\n",
    "#https://www.statisticshowto.com/probability-and-statistics/z-score/ \n",
    "for i in range(len(df_list)):\n",
    "    z = np.abs(stats.zscore(df_list[i][\"math score\"]))\n",
    "    print(f'Less than -3 std: {np.where(z < -3)}  | Greater than 3 std:{np.where(z > 3)}')\n",
    "\n",
    "print(\"\\nThe value that is identified as an outlier is:\")\n",
    "print(f'--------------------------------\\n{df_HS.iloc[190]}')\n",
    "print(\"--------------------------------\")\n",
    "\n",
    "# https://stackoverflow.com/questions/28679930/how-to-drop-rows-from-pandas-data-frame-that-contains-a-particular-string-in-a-p\n",
    "df_HS1 = df_HS[~df_HS['math score'].isin(['8'])]\n"
   ]
  },
  {
   "cell_type": "markdown",
   "metadata": {},
   "source": [
    "The outlier is identified above and is removed from the dataset as shown above using the Z-score test that says an observation is an outlier when it is more than 3 times the standard deviation. "
   ]
  },
  {
   "cell_type": "markdown",
   "metadata": {},
   "source": [
    "---\n",
    "## Assumption 5 Dependent variable should be normally distributed for each category\n",
    "---\n",
    "\n",
    "The Shapiro-Wilk test [[6]](#6) is completed to determine if the dependent variable is normally distributed for each category. When the P-value is greater than 0.05 the data to be normally distributed. As shown below the data for the High School & Masters Degree categories are normally distributed. The other two categories are just under the threshold for being a normally distributed category. "
   ]
  },
  {
   "cell_type": "code",
   "execution_count": 13,
   "metadata": {},
   "outputs": [
    {
     "name": "stdout",
     "output_type": "stream",
     "text": [
      "Shapiro Wilk test for Master's Degree - p value: 0.065: Index[0]\n",
      "Data is Normally distributed!!\n",
      "Shapiro Wilk test for Master's Degree - p value: 0.045: Index[1]\n",
      "Data is **NOT** Normally distributed\n",
      "Shapiro Wilk test for Master's Degree - p value: 0.604: Index[2]\n",
      "Data is Normally distributed!!\n",
      "Shapiro Wilk test for Master's Degree - p value: 0.032: Index[3]\n",
      "Data is **NOT** Normally distributed\n"
     ]
    }
   ],
   "source": [
    "## Looping through the DF's to complete Shapiro Wilk's tests\n",
    "df_list1 = [df_HS1, df_AD, df_BD, df_MD]\n",
    "labels=['High School','Associate\\'s Degree','Bachelor\\'s Degree','Master\\'s Degree']\n",
    "for i in range(len(df_list1)):\n",
    "    for j in range(len(labels)):\n",
    "        pvalue = stats.shapiro(df_list[i]['math score'])[1]\n",
    "    print(f'Shapiro Wilk test for {labels[j]} - p value: {pvalue:.3f}: Index{[i]}')\n",
    "    if pvalue<0.05:\n",
    "        print(\"Data is **NOT** Normally distributed\")\n",
    "    else:\n",
    "        print(\"Data is Normally distributed!!\")"
   ]
  },
  {
   "cell_type": "markdown",
   "metadata": {},
   "source": [
    "---\n",
    "## Assumption 6 There needs to be homogeneity of variances\n",
    "---\n",
    "Levene test is used on the two Normally distributed categories to see if there is homogeneity of variances between them.\n",
    "As seen below there is so the ANOVA f_oneway test can commence. Although with only two categories a t-test could also be performed."
   ]
  },
  {
   "cell_type": "code",
   "execution_count": 14,
   "metadata": {},
   "outputs": [
    {
     "name": "stdout",
     "output_type": "stream",
     "text": [
      "High School & Bachelor's Degree: \n",
      "LeveneResult(statistic=0.22829941361553233, pvalue=0.6331222413836735)\n",
      "-----------------------------------------------------------------\n",
      "There is homogeneity of variances as p-value is greater than 0.05\n",
      "-----------------------------------------------------------------\n"
     ]
    }
   ],
   "source": [
    "## Levene tests for homogeneity of variances\n",
    "pvaluea = stats.levene(df_list1[0]['math score'], df_list1[2]['math score'])\n",
    "print(f'High School & Bachelor\\'s Degree: \\n{pvaluea}')\n",
    "print(f'-----------------------------------------------------------------')\n",
    "if pvaluea[1]<0.05:\n",
    "    print(f'There is no homogeneity of variances as p-value is less than 0.05')\n",
    "else:\n",
    "    print(f'There is homogeneity of variances as p-value is greater than 0.05')\n",
    "    print('-----------------------------------------------------------------')"
   ]
  },
  {
   "cell_type": "markdown",
   "metadata": {},
   "source": [
    "---\n",
    "## ANOVA Test f_oneway - Test for significant difference\n",
    "---\n",
    "\n",
    "Test to see if there is significant difference between categories. Similar to other tests a p-value less than 0.05 would indicate that there is a significant difference. Whereas a value greater than 0.05 would indicate no significant difference. As shown below, there is a fairly significant difference as the p-value came out to be 0.00003. [[7]](#7)"
   ]
  },
  {
   "cell_type": "code",
   "execution_count": 15,
   "metadata": {},
   "outputs": [
    {
     "name": "stdout",
     "output_type": "stream",
     "text": [
      "High School & Bachelor's Degree: \n",
      "F_onewayResult(statistic=17.944912790318828, pvalue=2.996534585384387e-05)\n",
      "-------------------------------------------------------------------------------------\n",
      "Anova test: Groups are significantly different as p-value (0.00003) is less than 0.05\n",
      "-------------------------------------------------------------------------------------\n"
     ]
    }
   ],
   "source": [
    "## Anova oneway test\n",
    "pvalue1 = stats.f_oneway(df_list1[0]['math score'], df_list1[2]['math score'])\n",
    "print(f'High School & Bachelor\\'s Degree: \\n{pvalue1}')\n",
    "print(f'-------------------------------------------------------------------------------------')\n",
    "print(f'Anova test: Groups are significantly different as p-value ({pvalue1[1]:.5f}) is less than 0.05')\n",
    "print('-------------------------------------------------------------------------------------')"
   ]
  },
  {
   "cell_type": "markdown",
   "metadata": {},
   "source": [
    "---\n",
    "## Welch’s ANOVA in Python & Games-Howell post-hoc test\n",
    "---\n",
    "\n",
    "Welch’s ANOVA test [[8]](#8) is completed when the assumption of equal variances is proved to be false. This could have been completed after the Shapiro test on the categories that were not Normally distributed. The p- value shown below is a lot less than 0.05 so we can reject the null hypothesis which would have been that exam scores would have been equal for the four types of Parents education.The Games-Howell post-hoc test is used to determine which groups means vary from eachother. "
   ]
  },
  {
   "cell_type": "code",
   "execution_count": 16,
   "metadata": {},
   "outputs": [
    {
     "data": {
      "text/html": [
       "<div>\n",
       "<style scoped>\n",
       "    .dataframe tbody tr th:only-of-type {\n",
       "        vertical-align: middle;\n",
       "    }\n",
       "\n",
       "    .dataframe tbody tr th {\n",
       "        vertical-align: top;\n",
       "    }\n",
       "\n",
       "    .dataframe thead th {\n",
       "        text-align: right;\n",
       "    }\n",
       "</style>\n",
       "<table border=\"1\" class=\"dataframe\">\n",
       "  <thead>\n",
       "    <tr style=\"text-align: right;\">\n",
       "      <th></th>\n",
       "      <th>Source</th>\n",
       "      <th>ddof1</th>\n",
       "      <th>ddof2</th>\n",
       "      <th>F</th>\n",
       "      <th>p-unc</th>\n",
       "      <th>np2</th>\n",
       "    </tr>\n",
       "  </thead>\n",
       "  <tbody>\n",
       "    <tr>\n",
       "      <th>0</th>\n",
       "      <td>Parent_Education</td>\n",
       "      <td>3</td>\n",
       "      <td>211.402117</td>\n",
       "      <td>8.803911</td>\n",
       "      <td>0.000016</td>\n",
       "      <td>0.04208</td>\n",
       "    </tr>\n",
       "  </tbody>\n",
       "</table>\n",
       "</div>"
      ],
      "text/plain": [
       "             Source  ddof1       ddof2         F     p-unc      np2\n",
       "0  Parent_Education      3  211.402117  8.803911  0.000016  0.04208"
      ]
     },
     "execution_count": 16,
     "metadata": {},
     "output_type": "execute_result"
    }
   ],
   "source": [
    "## Welchs Anova test \n",
    "pg.welch_anova(dv='math score', between='Parent_Education', data=Anova_df1)"
   ]
  },
  {
   "cell_type": "code",
   "execution_count": 17,
   "metadata": {},
   "outputs": [
    {
     "data": {
      "text/html": [
       "<div>\n",
       "<style scoped>\n",
       "    .dataframe tbody tr th:only-of-type {\n",
       "        vertical-align: middle;\n",
       "    }\n",
       "\n",
       "    .dataframe tbody tr th {\n",
       "        vertical-align: top;\n",
       "    }\n",
       "\n",
       "    .dataframe thead th {\n",
       "        text-align: right;\n",
       "    }\n",
       "</style>\n",
       "<table border=\"1\" class=\"dataframe\">\n",
       "  <thead>\n",
       "    <tr style=\"text-align: right;\">\n",
       "      <th></th>\n",
       "      <th>A</th>\n",
       "      <th>B</th>\n",
       "      <th>mean(A)</th>\n",
       "      <th>mean(B)</th>\n",
       "      <th>diff</th>\n",
       "      <th>se</th>\n",
       "      <th>T</th>\n",
       "      <th>df</th>\n",
       "      <th>pval</th>\n",
       "      <th>hedges</th>\n",
       "    </tr>\n",
       "  </thead>\n",
       "  <tbody>\n",
       "    <tr>\n",
       "      <th>0</th>\n",
       "      <td>associate's degree</td>\n",
       "      <td>bachelor's degree</td>\n",
       "      <td>67.882883</td>\n",
       "      <td>69.389831</td>\n",
       "      <td>-1.506948</td>\n",
       "      <td>1.709162</td>\n",
       "      <td>-0.881688</td>\n",
       "      <td>241.058173</td>\n",
       "      <td>0.790643</td>\n",
       "      <td>-0.100224</td>\n",
       "    </tr>\n",
       "    <tr>\n",
       "      <th>1</th>\n",
       "      <td>associate's degree</td>\n",
       "      <td>high school</td>\n",
       "      <td>67.882883</td>\n",
       "      <td>62.137755</td>\n",
       "      <td>5.745128</td>\n",
       "      <td>1.451653</td>\n",
       "      <td>3.957645</td>\n",
       "      <td>412.922552</td>\n",
       "      <td>0.001000</td>\n",
       "      <td>0.387201</td>\n",
       "    </tr>\n",
       "    <tr>\n",
       "      <th>2</th>\n",
       "      <td>associate's degree</td>\n",
       "      <td>master's degree</td>\n",
       "      <td>67.882883</td>\n",
       "      <td>69.745763</td>\n",
       "      <td>-1.862880</td>\n",
       "      <td>2.218319</td>\n",
       "      <td>-0.839771</td>\n",
       "      <td>91.041427</td>\n",
       "      <td>0.814172</td>\n",
       "      <td>-0.122671</td>\n",
       "    </tr>\n",
       "    <tr>\n",
       "      <th>3</th>\n",
       "      <td>bachelor's degree</td>\n",
       "      <td>high school</td>\n",
       "      <td>69.389831</td>\n",
       "      <td>62.137755</td>\n",
       "      <td>7.252075</td>\n",
       "      <td>1.723686</td>\n",
       "      <td>4.207306</td>\n",
       "      <td>241.331555</td>\n",
       "      <td>0.001000</td>\n",
       "      <td>0.489051</td>\n",
       "    </tr>\n",
       "    <tr>\n",
       "      <th>4</th>\n",
       "      <td>bachelor's degree</td>\n",
       "      <td>master's degree</td>\n",
       "      <td>69.389831</td>\n",
       "      <td>69.745763</td>\n",
       "      <td>-0.355932</td>\n",
       "      <td>2.405148</td>\n",
       "      <td>-0.147988</td>\n",
       "      <td>114.675149</td>\n",
       "      <td>0.900000</td>\n",
       "      <td>-0.023495</td>\n",
       "    </tr>\n",
       "    <tr>\n",
       "      <th>5</th>\n",
       "      <td>high school</td>\n",
       "      <td>master's degree</td>\n",
       "      <td>62.137755</td>\n",
       "      <td>69.745763</td>\n",
       "      <td>-7.608008</td>\n",
       "      <td>2.229529</td>\n",
       "      <td>-3.412383</td>\n",
       "      <td>92.486348</td>\n",
       "      <td>0.005208</td>\n",
       "      <td>-0.505223</td>\n",
       "    </tr>\n",
       "  </tbody>\n",
       "</table>\n",
       "</div>"
      ],
      "text/plain": [
       "                    A                  B    mean(A)    mean(B)      diff  \\\n",
       "0  associate's degree  bachelor's degree  67.882883  69.389831 -1.506948   \n",
       "1  associate's degree        high school  67.882883  62.137755  5.745128   \n",
       "2  associate's degree    master's degree  67.882883  69.745763 -1.862880   \n",
       "3   bachelor's degree        high school  69.389831  62.137755  7.252075   \n",
       "4   bachelor's degree    master's degree  69.389831  69.745763 -0.355932   \n",
       "5         high school    master's degree  62.137755  69.745763 -7.608008   \n",
       "\n",
       "         se         T          df      pval    hedges  \n",
       "0  1.709162 -0.881688  241.058173  0.790643 -0.100224  \n",
       "1  1.451653  3.957645  412.922552  0.001000  0.387201  \n",
       "2  2.218319 -0.839771   91.041427  0.814172 -0.122671  \n",
       "3  1.723686  4.207306  241.331555  0.001000  0.489051  \n",
       "4  2.405148 -0.147988  114.675149  0.900000 -0.023495  \n",
       "5  2.229529 -3.412383   92.486348  0.005208 -0.505223  "
      ]
     },
     "execution_count": 17,
     "metadata": {},
     "output_type": "execute_result"
    }
   ],
   "source": [
    "pg.pairwise_gameshowell(dv='math score', between='Parent_Education', data=Anova_df1)"
   ]
  },
  {
   "cell_type": "markdown",
   "metadata": {},
   "source": [
    "From the above data we can see that there is a significant difference between the following combinations of groups.\n",
    "\n",
    "\n",
    "| Significant Difference between groups||\n",
    "|:-------------|:-------------|\n",
    "|associate's degree |high school|\n",
    "|bachelor's degree |high school|\n",
    "|high school |master's degree|\n"
   ]
  },
  {
   "cell_type": "markdown",
   "metadata": {},
   "source": [
    "## References\n",
    "\n",
    "|||\n",
    "|:-------------|:-------------|\n",
    "|<a id=\"1\">[1]</a> https://github.com/scipy/scipy |<a id=\"2\">[2]</a> https://en.ppt-online.org/412169 Normal Probability Distributions : Copyright © 2010, 2007, 2004 Pearson Education, Inc.|\n",
    "|<a id=\"3\">[3]</a> https://statistics.laerd.com/spss-tutorials/one-way-anova-using-spss-statistics.php |<a id=\"4\">[4]</a> https://www.oecd.org/pisa/publications/pisa-2018-results.html|\n",
    "|<a id=\"5\">[5]</a> https://towardsdatascience.com/create-and-customize-boxplots-with-pythons-matplotlib-to-get-lots-of-insights-from-your-data-d561c9883643 |<a id=\"6\">[6]</a> https://docs.scipy.org/doc/scipy/reference/generated/scipy.stats.shapiro.html |\n",
    "|<a id=\"7\">[7]</a> https://www.analyticsvidhya.com/blog/2018/01/anova-analysis-of-variance/ |<a id=\"8\">[8]</a>https://www.statology.org/welchs-anova-in-python/ |"
   ]
  },
  {
   "cell_type": "markdown",
   "metadata": {},
   "source": [
    "### Other References used:\n",
    "\n",
    "- https://www.youtube.com/watch?v=ITf4vHhyGpc\n",
    "- https://www.youtube.com/watch?v=_X45N7ERtY4\n",
    "- https://www.reneshbedre.com/blog/anova.html\n",
    "- https://www.pythonfordatascience.org/anova-python/\n",
    "- https://analyticsindiamag.com/a-complete-python-guide-to-anova/\n",
    "- https://docs.scipy.org/doc/scipy/reference/stats.html"
   ]
  },
  {
   "cell_type": "markdown",
   "metadata": {},
   "source": [
    "---\n",
    "# End"
   ]
  }
 ],
 "metadata": {
  "kernelspec": {
   "display_name": "Python 3",
   "language": "python",
   "name": "python3"
  },
  "language_info": {
   "codemirror_mode": {
    "name": "ipython",
    "version": 3
   },
   "file_extension": ".py",
   "mimetype": "text/x-python",
   "name": "python",
   "nbconvert_exporter": "python",
   "pygments_lexer": "ipython3",
   "version": "3.7.4"
  }
 },
 "nbformat": 4,
 "nbformat_minor": 4
}
