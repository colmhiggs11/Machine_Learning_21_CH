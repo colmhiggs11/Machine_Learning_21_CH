{
 "cells": [
  {
   "cell_type": "markdown",
   "metadata": {},
   "source": [
    "# Scipy Stats"
   ]
  },
  {
   "cell_type": "markdown",
   "metadata": {},
   "source": [
    "---"
   ]
  },
  {
   "cell_type": "markdown",
   "metadata": {},
   "source": [
    "10% A clear and concise overview of the scipy.stats Python library [4].\n",
    "\n",
    "20% An example hypothesis test using ANOVA. You should find a data set on which it is appropriate to use ANOVA, ensure the assumptions underlying ANOVA are met, and then perform and display the results of your ANOVA using scipy.stats.\n",
    "\n",
    "10% Appropriate plots and other visualisations to enhance your notebook for viewers.\n",
    "\n",
    "https://docs.scipy.org/doc/scipy/reference/stats.html"
   ]
  },
  {
   "cell_type": "markdown",
   "metadata": {},
   "source": [
    "# SciPy\n"
   ]
  },
  {
   "cell_type": "markdown",
   "metadata": {},
   "source": [
    "Scipy is a Python library used to solve mathematical and scientific problems. It is built on Numpy. Numpy uses array data and has basic operation like sorting and indexing. SciPy contains numerical code. It is a library containing full versions of mathematical and scientific functions. The sub packages contained in SciPy are shown in the image below. In this notebook we will be looking at SciPy Stats.\n",
    "\n",
    "<img src=\"Images/Scipy.png\" style = \"height:450px;width:600px;\" Title= \"SciPy Sub Packages\"/>\n"
   ]
  },
  {
   "cell_type": "markdown",
   "metadata": {},
   "source": [
    "# SciPy Stats"
   ]
  },
  {
   "cell_type": "markdown",
   "metadata": {},
   "source": [
    "This module contains a large number of probability distributions as\n",
    "well as a growing library of statistical functions.\n",
    "\n",
    "Each univariate distribution is an instance of a subclass of `rv_continuous`\n",
    "(`rv_discrete` for discrete distributions):\n"
   ]
  },
  {
   "cell_type": "code",
   "execution_count": 3,
   "metadata": {},
   "outputs": [],
   "source": [
    "import scipy\n",
    "from scipy import stats"
   ]
  },
  {
   "cell_type": "code",
   "execution_count": null,
   "metadata": {},
   "outputs": [],
   "source": []
  },
  {
   "cell_type": "markdown",
   "metadata": {},
   "source": [
    "# What is ANOVA (ANalysis Of VAriance)\n"
   ]
  },
  {
   "cell_type": "markdown",
   "metadata": {},
   "source": [
    "Null hypothesis\n",
    "\n",
    "Alternative hypothesis:\n",
    "https://www.reneshbedre.com/blog/anova.html\n",
    "https://www.pythonfordatascience.org/anova-python/\n",
    "https://www.analyticsvidhya.com/blog/2020/06/introduction-anova-statistics-data-science-covid-python/\n",
    "https://machinelearningmastery.com/statistical-hypothesis-tests-in-python-cheat-sheet/\n",
    "https://analyticsindiamag.com/a-complete-python-guide-to-anova/\n",
    "https://github.com/ianmcloughlin/python_anova/blob/main/one_way_anova.ipynb\n",
    "\n",
    "\n",
    "https://web.microsoftstream.com/video/75cd03e6-2ccd-45e3-859e-aa8e90576b86\n",
    "https://web.microsoftstream.com/video/11e9f22d-f8b5-43ad-b2b0-2e324df75cba\n",
    "\n",
    " An example hypothesis test using ANOVA\n",
    " ensure the assumptions underlying ANOVA are met, and then perform and display the results of your ANOVA using scipy.stats.\n",
    " \n",
    " After reviewing the materials above, I recommend that you perform your ANOVA including considering the assumptions and any post hoc tests you might need.\n",
    "\n",
    "https://github.com/ianmcloughlin/python_anova/blob/main/one_way_anova.ipynb"
   ]
  },
  {
   "cell_type": "code",
   "execution_count": null,
   "metadata": {},
   "outputs": [],
   "source": []
  },
  {
   "cell_type": "code",
   "execution_count": null,
   "metadata": {},
   "outputs": [],
   "source": []
  },
  {
   "cell_type": "code",
   "execution_count": null,
   "metadata": {},
   "outputs": [],
   "source": []
  },
  {
   "cell_type": "code",
   "execution_count": null,
   "metadata": {},
   "outputs": [],
   "source": []
  },
  {
   "cell_type": "markdown",
   "metadata": {},
   "source": [
    "---\n",
    "# End"
   ]
  },
  {
   "cell_type": "code",
   "execution_count": null,
   "metadata": {},
   "outputs": [],
   "source": []
  }
 ],
 "metadata": {
  "kernelspec": {
   "display_name": "Python 3",
   "language": "python",
   "name": "python3"
  },
  "language_info": {
   "codemirror_mode": {
    "name": "ipython",
    "version": 3
   },
   "file_extension": ".py",
   "mimetype": "text/x-python",
   "name": "python",
   "nbconvert_exporter": "python",
   "pygments_lexer": "ipython3",
   "version": "3.7.4"
  }
 },
 "nbformat": 4,
 "nbformat_minor": 4
}
