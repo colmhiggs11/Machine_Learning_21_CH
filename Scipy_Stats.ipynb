{
 "cells": [
  {
   "cell_type": "markdown",
   "metadata": {},
   "source": [
    "- 20% An example hypothesis test using ANOVA. You should find a data set on which it is appropriate to use ANOVA, ensure the assumptions underlying ANOVA are met, and then perform and display the results of your ANOVA using scipy.stats."
   ]
  },
  {
   "cell_type": "markdown",
   "metadata": {},
   "source": [
    "<img src=\"Images/scipylogo.png\" style = \"height:125px;width:300px;\" Title= \"SciPy Sub Packages\"/>\n"
   ]
  },
  {
   "cell_type": "markdown",
   "metadata": {},
   "source": [
    "---"
   ]
  },
  {
   "cell_type": "markdown",
   "metadata": {},
   "source": [
    "# SciPy\n"
   ]
  },
  {
   "cell_type": "markdown",
   "metadata": {},
   "source": [
    "Scipy is a Python library used to solve mathematical and scientific problems. It is built on Numpy. Numpy uses array data and has basic operation like sorting and indexing. SciPy contains numerical code. It is a library containing full versions of mathematical and scientific functions. The sub packages contained in SciPy are shown in the image below. In this notebook we will be looking at SciPy Stats.\n",
    "\n",
    "<img src=\"Images/Scipy.png\" style = \"height:400px;width:550px;\" Title= \"SciPy Sub Packages\"/>\n"
   ]
  },
  {
   "cell_type": "code",
   "execution_count": 3,
   "metadata": {},
   "outputs": [],
   "source": [
    "import scipy\n",
    "from scipy import stats"
   ]
  },
  {
   "cell_type": "markdown",
   "metadata": {},
   "source": [
    "# SciPy Stats"
   ]
  },
  {
   "cell_type": "markdown",
   "metadata": {},
   "source": [
    "The SciPy Stats module is one of the many sub packages of the SciPy library. It is made up of probability distributions (both continuous and discrete), summary and frequency statistics, correlation functions and statistical tests,kernel density estimation and a lot more. It's content is constantly being updated due to the open source nature of SciPy. SciPy has many contributors and is located on Github. [[1]](#1) \n",
    "\n",
    "The two distribution classes rv_continuous and rv_discrete are made for subclassing. They are normally used if you need a distribution which is not already defined in scipy.stats There are more than 80 continuous random variables and over 10 discrete random variables implemented into these classes.\tTo get a full list of the statistic functions in scipy.stats you can use the following code: `info(stats) `\n",
    "\n",
    "Probability distributions show us the Likelihood of a particular outcome. \n",
    "The are underneath the curve must add up to 1 as shown below. [[2]](#2) \n",
    "\n",
    "<img src=\"Images/PDF.png\" style = \"height:300px;width:500px;\" Title= \"SciPy Sub Packages\"/>\n",
    "\n",
    "\n",
    "__Continuous distributions__\n",
    "Typically use continuous random variables such as measurements. Examples include height, the time required to complete a task etc.\n",
    "This is represented by the area under a curve or the integral. \n",
    "\n",
    "__Discrete distributions__\n",
    "Typically use discrete random variables such as count values . Examples of discrete random variables include the number of pets you own, attendance at a school, the number of patients in a hospital.\n",
    "The probability distribution is a list of probabilities associated with each of its possible values. It is called probability mass function.\n",
    "\n",
    "There are a number of other functions within scipy.stats that are very useful.\n",
    "\n",
    "|Name| Description|\n",
    "|:-------------|:-------------|\n",
    "|Summary statistics |Used to return descriptive statistics. For decoding values in the output. Minimum, Maximum, Count, Mean etc.|\n",
    "|Frequency statistics   |Typically used to return scores and frequency histograms|\n",
    "|Correlation functions - f_oneway(args[, axis]) Perform one-way ANOVA. |Used to analyse correlation between variables or features in datasets. For quantifying the strength of the relationship |\n",
    "|Statistical tests |Used in hypothesis testing to determine whether input variables have significant relationship with the target variables. Estimation of difference between two or more groups.| \n",
    "\n",
    "In Statistical tests there is an assumption made and the testing is based onhow likely the assumption will prove to be false. Initially a null hypothesis is assumed which means there is no difference or relationship between variables. The p-probability value deternines whether there is a significant relationship between the input and target variables. If the p-value is below th threshold typically 0.05. Then there is said to be a relationship between the variables. For the purpose of this notebook we will be focussing on the ANOVA statistical test."
   ]
  },
  {
   "cell_type": "markdown",
   "metadata": {},
   "source": [
    "# ANOVA (ANalysis Of VAriance)\n",
    "----\n",
    "\n"
   ]
  },
  {
   "cell_type": "markdown",
   "metadata": {},
   "source": [
    "ANOVA is a statistical test as mentioned above. It is typically used when a t-test that would deal with two samples is not able to be used because there are more than two samples to be tested.\n",
    "Anova uses the F-Test to check whether the group means are equal and also looks for the variation within the samples. There is only one dependent variable in the model. The formula for completing a one-way ANOVA test is as follows: \n",
    "\n",
    "___\n",
    "$$\n",
    "F = \\frac{Explained \\; Variance}{Unexplained\\; Variance} or\\frac{ Variance\\; between \\;Groups}{ Variance \\;within \\;Groups} = \\frac{Sum \\;of \\;Squares\\; between\\; groups}{Sum \\;of \\;Squares\\; for \\;error} = \\frac{MST}{MSE} = \\frac{Mean \\;Squared \\;Error \\;Treatments}{Mean \\;Squared \\;Error } = \\frac{\\frac{SS_B}{DfT}}{\\frac{SS_W}{DfE}} = \\frac{\\frac{SS_B}{k-1}}{\\frac{SS_W}{N-k}}\n",
    "$$\n",
    "\n",
    "\n",
    "---\n",
    "\n",
    "$$ Where,$$\n",
    "\n",
    "\n",
    "$$SS_b = \\sum_{i}^{} n_i{(y_i-y)^2}$$\n",
    "\n",
    "$$SS_bW = \\sum_{ij}^{} {(y_{ij}-y_i)^2}$$\n",
    "\n",
    "$$ Where,$$\n",
    "\n",
    "\n",
    "$$y_i = Sample \\;mean \\;in \\;the\\; i^{th} \\;group$$\n",
    "\n",
    "$$n_i = number \\;of \\;observation \\;in\\; the \\;i^{th}\\; group$$\n",
    "\n",
    "$$y_i = total\\; mean \\;of \\;the \\;data$$\n",
    "\n",
    "$$k = total \\;number \\;of \\;groups$$\n",
    "\n",
    "$$y_{ij} = j^{th} \\;observation\\; out \\;of \\;k \\;group$$\n",
    "\n",
    "$$N = Overall\\; sample\\; size$$\n",
    "\n",
    "\n",
    "Null hypothesis\n",
    "\n",
    "Alternative hypothesis:\n",
    "\n",
    "https://www.reneshbedre.com/blog/anova.html\n",
    "\n",
    "https://www.pythonfordatascience.org/anova-python/\n",
    "\n",
    "https://www.analyticsvidhya.com/blog/2020/06/introduction-anova-statistics-data-science-covid-python/\n",
    "\n",
    "https://machinelearningmastery.com/statistical-hypothesis-tests-in-python-cheat-sheet/\n",
    "\n",
    "https://analyticsindiamag.com/a-complete-python-guide-to-anova/\n",
    "\n",
    "https://github.com/ianmcloughlin/python_anova/blob/main/one_way_anova.ipynb\n",
    "\n",
    "https://web.microsoftstream.com/video/75cd03e6-2ccd-45e3-859e-aa8e90576b86\n",
    "\n",
    "https://web.microsoftstream.com/video/11e9f22d-f8b5-43ad-b2b0-2e324df75cba\n",
    "\n",
    "https://github.com/ianmcloughlin/python_anova/blob/main/one_way_anova.ipynb\n",
    "\n",
    "https://docs.scipy.org/doc/scipy/reference/stats.html"
   ]
  },
  {
   "cell_type": "code",
   "execution_count": 3,
   "metadata": {},
   "outputs": [
    {
     "data": {
      "text/plain": [
       "<__main__.gaussian_gen at 0x14686882d88>"
      ]
     },
     "execution_count": 3,
     "metadata": {},
     "output_type": "execute_result"
    }
   ],
   "source": [
    "from scipy.stats import rv_continuous\n",
    "class gaussian_gen(rv_continuous):\n",
    "    \"Gaussian distribution\"\n",
    "    def _pdf(self, x):\n",
    "        return np.exp(-x**2 / 2.) / np.sqrt(2.0 * np.pi)\n",
    "gaussian_gen(name='gaussian')"
   ]
  },
  {
   "cell_type": "code",
   "execution_count": null,
   "metadata": {},
   "outputs": [],
   "source": []
  },
  {
   "cell_type": "code",
   "execution_count": null,
   "metadata": {},
   "outputs": [],
   "source": []
  },
  {
   "cell_type": "markdown",
   "metadata": {},
   "source": [
    "## References\n",
    "\n",
    "|||\n",
    "|:-------------|:-------------|\n",
    "|<a id=\"1\">[1]</a> https://github.com/scipy/scipy |<a id=\"2\">[2]</a> https://en.ppt-online.org/412169 Normal Probability Distributions : Copyright © 2010, 2007, 2004 Pearson Education, Inc.|\n",
    "|<a id=\"3\">[3]</a>  |<a id=\"4\">[4]</a> |\n",
    "|<a id=\"3\">[3]</a>  |<a id=\"4\">[4]</a> |\n",
    "|<a id=\"3\">[3]</a>  |<a id=\"4\">[4]</a> |\n",
    "|<a id=\"3\">[3]</a>  |<a id=\"4\">[4]</a> |\n",
    "|<a id=\"3\">[3]</a>  |<a id=\"4\">[4]</a> |\n"
   ]
  },
  {
   "cell_type": "markdown",
   "metadata": {},
   "source": [
    "---\n",
    "# End"
   ]
  }
 ],
 "metadata": {
  "kernelspec": {
   "display_name": "Python 3",
   "language": "python",
   "name": "python3"
  },
  "language_info": {
   "codemirror_mode": {
    "name": "ipython",
    "version": 3
   },
   "file_extension": ".py",
   "mimetype": "text/x-python",
   "name": "python",
   "nbconvert_exporter": "python",
   "pygments_lexer": "ipython3",
   "version": "3.7.4"
  }
 },
 "nbformat": 4,
 "nbformat_minor": 4
}
