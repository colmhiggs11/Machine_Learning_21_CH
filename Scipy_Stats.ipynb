{
 "cells": [
  {
   "cell_type": "markdown",
   "metadata": {},
   "source": [
    "- 10% A clear and concise overview of the scipy.stats Python library [4].\n",
    "\n",
    "- 20% An example hypothesis test using ANOVA. You should find a data set on which it is appropriate to use ANOVA, ensure the assumptions underlying ANOVA are met, and then perform and display the results of your ANOVA using scipy.stats.\n",
    "\n",
    "- 10% Appropriate plots and other visualisations to enhance your notebook for viewers."
   ]
  },
  {
   "cell_type": "markdown",
   "metadata": {},
   "source": [
    "<img src=\"Images/scipylogo.png\" style = \"height:125px;width:300px;\" Title= \"SciPy Sub Packages\"/>\n"
   ]
  },
  {
   "cell_type": "markdown",
   "metadata": {},
   "source": [
    "---"
   ]
  },
  {
   "cell_type": "markdown",
   "metadata": {},
   "source": [
    "# SciPy\n"
   ]
  },
  {
   "cell_type": "markdown",
   "metadata": {},
   "source": [
    "Scipy is a Python library used to solve mathematical and scientific problems. It is built on Numpy. Numpy uses array data and has basic operation like sorting and indexing. SciPy contains numerical code. It is a library containing full versions of mathematical and scientific functions. The sub packages contained in SciPy are shown in the image below. In this notebook we will be looking at SciPy Stats.\n",
    "\n",
    "<img src=\"Images/Scipy.png\" style = \"height:450px;width:600px;\" Title= \"SciPy Sub Packages\"/>\n"
   ]
  },
  {
   "cell_type": "code",
   "execution_count": 3,
   "metadata": {},
   "outputs": [],
   "source": [
    "import scipy\n",
    "from scipy import stats"
   ]
  },
  {
   "cell_type": "markdown",
   "metadata": {},
   "source": [
    "# SciPy Stats"
   ]
  },
  {
   "cell_type": "markdown",
   "metadata": {},
   "source": [
    "The SciPy Stats module is one of the many sub packages of the SciPy library. It is made up of probability distributions (both continuous and discrete), summary and frequency statistics, correlation functions and statistical tests,kernel density estimation and a lot more. It's content is constantly being updated due to the open source nature of SciPy. SciPy has many contributors and is located [[1]](#1)\n",
    "\n",
    "Basically, rv_continuous is made for subclassing. Use it if you need a distribution which is not defined in scipy.stats (there are more than 70 of them).\n",
    "    \n",
    "\n",
    "\n",
    "## Discrete Random Variables\n",
    "A discrete random variable is one which may take on only a countable number of distinct values such as 0,1,2,3,4,........ Discrete random variables are usually (but not necessarily) counts. If a random variable can take only a finite number of distinct values, then it must be discrete. Examples of discrete random variables include the number of children in a family, the Friday night attendance at a cinema, the number of patients in a doctor's surgery, the number of defective light bulbs in a box of ten.\n",
    "The probability distribution of a discrete random variable is a list of probabilities associated with each of its possible values. It is also sometimes called the probability function or the probability mass function.\n",
    "\n",
    "## Continuous Random Variables\n",
    "A continuous random variable is one which takes an infinite number of possible values. Continuous random variables are usually measurements. Examples include height, weight, the amount of sugar in an orange, the time required to run a mile.\n",
    "(Definition taken from Valerie J. Easton and John H. McColl's Statistics Glossary v1.1)\n",
    "\n",
    "A continuous random variable is not defined at specific values. Instead, it is defined over an interval of values, and is represented by the area under a curve (in advanced mathematics, this is known as an integral). The probability of observing any single value is equal to 0, since the number of values which may be assumed by the random variable is infinite.\n",
    "\n",
    "----\n",
    "The stats module greatly aid our efforts in assessing the randomness of data. Imagine we computed the probability of a fair coin producing at-least sixteen heads after twenty flips. Our calculations required us to examine all possible combinations of twenty flipped coins. Afterwards, we computed the probability of observing sixteen or more heads or sixteen or more tails, in order to measure the randomness of our observations. SciPy allows us to measure this probability directly using the stats.binomial_test method. The method is named after the Binomial distribution, which governs how a flipped coin might fall. The method requires three parameters: the number of heads, the total number of coin flips, and the probability of a coin landing on heads. Let’s apply the Binomial test to sixteen heads observed from twenty coin-flips. Our output should equal the previously computed value of approximately 0.011.\n",
    "\n",
    "\n"
   ]
  },
  {
   "cell_type": "markdown",
   "metadata": {},
   "source": [
    "We have functions for both continuous and discrete variables and can work with different types of distributions like the binomial, uniform, and continuous. We can also perform the T-test and determine the T-score. Let us learn more about SciPy Stats.\n",
    "\n",
    "SciPy Stats consists of the following three classes:\n",
    "\n",
    "1. rv_continuous\n",
    "scipy.stats distributions are instances, so here we subclass rv_continuous and create an instance. With this, we now have a fully functional distribution with all relevant methods automagically generated by the framework.\n",
    "        \n",
    "\n",
    "2. rv_discrete\n",
    "This class is similar to rv_continuous. Whether a shape parameter is valid is decided by an _argcheck method (which defaults to checking that its arguments are strictly positive.) The main differences are:\n",
    "the support of the distribution is a set of integers\n",
    "\n",
    "\n",
    "3. rv_histogram\n",
    "We can use it to generate specific distribution histograms. It can also be inherited from the class.\n",
    "\n",
    "There are functions available in SciPy which we can import and then perform the operations. These functions inherent properties of either of the classes available in the package. We generally have rv_continuous and rv_discrete to implement two different distributions.\n",
    "\n",
    "Create a scipy.stats distribution from a numpy histogram\n",
    "\n",
    "Generates a distribution given by a histogram. This is useful to generate a template distribution from a binned datasample.\n",
    "\n",
    "\n",
    "Summary\n",
    "The stats module is a very important feature of SciPy. It is useful for obtaining probabilistic distributions. SciPy Stats can generate discrete or continuous random numbers. It also consists of many other functions to generate descriptive statistical values.\n",
    "\n",
    "We can deal with random, continuos, and random variables. We have functions for working with various types of distributions. Also, we can perform the T-test on the data to evaluate the mean value. We have descriptive statistics for in-depth operations."
   ]
  },
  {
   "cell_type": "markdown",
   "metadata": {},
   "source": [
    "1.6.6.1. Distributions: histogram and probability density function\n",
    "Given observations of a random process, their histogram is an estimator of the random process’s PDF (probability density function):\n",
    "\n",
    "1.6.6.2. Mean, median and percentiles\n",
    "The mean is an estimator of the center of the distribution:\n",
    "The median another estimator of the center. It is the value with half of the observations below, and half above:\n",
    "\n",
    "1.6.6.3. Statistical tests\n",
    "A statistical test is a decision indicator. For instance, if we have two sets of observations, that we assume are generated from Gaussian processes, we can use a T-test to decide whether the means of two sets of observations are significantly different:\n",
    "A statistical test is a decision indicator. For instance, if we have two sets of observations, that we assume are generated from Gaussian processes, we can use a T-test to decide whether the means of two sets of observations are significantly different:"
   ]
  },
  {
   "cell_type": "markdown",
   "metadata": {},
   "source": [
    "# What is ANOVA (ANalysis Of VAriance)\n"
   ]
  },
  {
   "cell_type": "markdown",
   "metadata": {},
   "source": [
    "Null hypothesis\n",
    "\n",
    "Alternative hypothesis:\n",
    "\n",
    "https://www.reneshbedre.com/blog/anova.html\n",
    "\n",
    "https://www.pythonfordatascience.org/anova-python/\n",
    "\n",
    "https://www.analyticsvidhya.com/blog/2020/06/introduction-anova-statistics-data-science-covid-python/\n",
    "\n",
    "https://machinelearningmastery.com/statistical-hypothesis-tests-in-python-cheat-sheet/\n",
    "\n",
    "https://analyticsindiamag.com/a-complete-python-guide-to-anova/\n",
    "\n",
    "https://github.com/ianmcloughlin/python_anova/blob/main/one_way_anova.ipynb\n",
    "\n",
    "\n",
    "https://web.microsoftstream.com/video/75cd03e6-2ccd-45e3-859e-aa8e90576b86\n",
    "\n",
    "https://web.microsoftstream.com/video/11e9f22d-f8b5-43ad-b2b0-2e324df75cba\n",
    "\n",
    " An example hypothesis test using ANOVA\n",
    " ensure the assumptions underlying ANOVA are met, and then perform and display the results of your ANOVA using scipy.stats.\n",
    " \n",
    " After reviewing the materials above, I recommend that you perform your ANOVA including considering the assumptions and any post hoc tests you might need.\n",
    "\n",
    "https://github.com/ianmcloughlin/python_anova/blob/main/one_way_anova.ipynb\n",
    "\n",
    "https://docs.scipy.org/doc/scipy/reference/stats.html"
   ]
  },
  {
   "cell_type": "code",
   "execution_count": 3,
   "metadata": {},
   "outputs": [
    {
     "data": {
      "text/plain": [
       "<__main__.gaussian_gen at 0x14686882d88>"
      ]
     },
     "execution_count": 3,
     "metadata": {},
     "output_type": "execute_result"
    }
   ],
   "source": [
    "from scipy.stats import rv_continuous\n",
    "class gaussian_gen(rv_continuous):\n",
    "    \"Gaussian distribution\"\n",
    "    def _pdf(self, x):\n",
    "        return np.exp(-x**2 / 2.) / np.sqrt(2.0 * np.pi)\n",
    "gaussian_gen(name='gaussian')"
   ]
  },
  {
   "cell_type": "code",
   "execution_count": null,
   "metadata": {},
   "outputs": [],
   "source": []
  },
  {
   "cell_type": "code",
   "execution_count": null,
   "metadata": {},
   "outputs": [],
   "source": []
  },
  {
   "cell_type": "markdown",
   "metadata": {},
   "source": [
    "## References\n",
    "\n",
    "|||\n",
    "|:-------------|:-------------|\n",
    "|<a id=\"1\">[1]</a> https://github.com/scipy/scipy |<a id=\"2\">[2]</a>  |\n",
    "|<a id=\"3\">[3]</a>  |<a id=\"4\">[4]</a> |\n",
    "|<a id=\"3\">[3]</a>  |<a id=\"4\">[4]</a> |\n",
    "|<a id=\"3\">[3]</a>  |<a id=\"4\">[4]</a> |\n",
    "|<a id=\"3\">[3]</a>  |<a id=\"4\">[4]</a> |\n",
    "|<a id=\"3\">[3]</a>  |<a id=\"4\">[4]</a> |\n"
   ]
  },
  {
   "cell_type": "markdown",
   "metadata": {},
   "source": [
    "---\n",
    "# End"
   ]
  }
 ],
 "metadata": {
  "kernelspec": {
   "display_name": "Python 3",
   "language": "python",
   "name": "python3"
  },
  "language_info": {
   "codemirror_mode": {
    "name": "ipython",
    "version": 3
   },
   "file_extension": ".py",
   "mimetype": "text/x-python",
   "name": "python",
   "nbconvert_exporter": "python",
   "pygments_lexer": "ipython3",
   "version": "3.7.4"
  }
 },
 "nbformat": 4,
 "nbformat_minor": 4
}
